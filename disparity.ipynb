{
 "cells": [
  {
   "cell_type": "code",
   "execution_count": 2,
   "metadata": {},
   "outputs": [],
   "source": [
    "import glob\n",
    "import cv2\n",
    "import numpy as np\n",
    "import matplotlib.pyplot as plt\n",
    "from skimage.morphology import opening, closing, disk\n",
    "\n",
    "%matplotlib widget"
   ]
  },
  {
   "cell_type": "markdown",
   "metadata": {},
   "source": [
    "### Save Disparity Values for Regression Line"
   ]
  },
  {
   "cell_type": "code",
   "execution_count": 15,
   "metadata": {},
   "outputs": [
    {
     "name": "stdout",
     "output_type": "stream",
     "text": [
      "campus_regression_images/images\\left_1.png\n",
      "campus_regression_images/masks\\mask_1.png\n"
     ]
    }
   ],
   "source": [
    "left_ims = glob.glob('campus_regression_images/images/left*')\n",
    "right_ims = glob.glob('campus_regression_images/images/right*')\n",
    "masks = glob.glob('campus_regression_images/masks/*')\n",
    "\n",
    "print(left_ims[0])\n",
    "print(masks[0])"
   ]
  },
  {
   "cell_type": "code",
   "execution_count": 70,
   "metadata": {},
   "outputs": [],
   "source": [
    "def computeDepthMap(imgL, imgR, mask):\n",
    "    \n",
    "        # ------------------------------------- #\n",
    "        # SETUP\n",
    "        # ------------------------------------- #\n",
    "        imgL = cv2.GaussianBlur(imgL, (5,5), 0)\n",
    "        imgR = cv2.GaussianBlur(imgR, (5,5), 0)\n",
    "\n",
    "        # read camera data\n",
    "        data = cv2.FileStorage('stereo_params.yml', cv2.FILE_STORAGE_READ)\n",
    "        keys = [\"K1\", \"K2\", \"D1\", \"D2\", \"R1\", \"R2\", \"P1\", \"P2\", \"T\"]\n",
    "        [K1, K2, D1, D2, R1, R2, P1, P2, T] = [data.getNode(key).mat() for key in keys]\n",
    "\n",
    "        '''\n",
    "        We know that\n",
    "\n",
    "                |f  0   cx1  0|\n",
    "        P1 =    |0  f   cy   0|\n",
    "                |0  f   1    0|\n",
    "\n",
    "        and \n",
    "\n",
    "                |f  0   cx2  Tx*f|\n",
    "        P2 =    |0  f   cy   0   |\n",
    "                |0  f   1    0   |\n",
    "\n",
    "        and in our case, cx1 = cx2 = cx\n",
    "        '''\n",
    "\n",
    "        f = K1[0,0]\n",
    "        Tx = T[0,0]\n",
    "        P1 = np.hstack((K1, np.array([[0],[0],[0]])))\n",
    "        P2 = np.hstack((K2, np.array([[Tx*f],[0],[0]])))\n",
    "\n",
    "\n",
    "        # ------------------------------------- #\n",
    "        # STEREO RECTIFICATION\n",
    "        # ------------------------------------- #\n",
    "        h1, w1 = imgL.shape\n",
    "\n",
    "        # rectify images using initUndistortRectifyMap\n",
    "        xmap1, ymap1 = cv2.initUndistortRectifyMap(K1, D1, R1, P1, (w1,h1), cv2.CV_32FC1)\n",
    "        xmap2, ymap2 = cv2.initUndistortRectifyMap(K2, D2, R2, P2, (w1,h1), cv2.CV_32FC1)\n",
    "\n",
    "        imgL_rectified = cv2.remap(imgL, xmap1, ymap1, cv2.INTER_LINEAR, cv2.BORDER_CONSTANT)\n",
    "        imgR_rectified = cv2.remap(imgR, xmap2, ymap2, cv2.INTER_LINEAR, cv2.BORDER_CONSTANT)\n",
    "        mask_rectified = cv2.remap(mask, xmap1, ymap1, cv2.INTER_LINEAR, cv2.BORDER_CONSTANT)\n",
    "\n",
    "        # -------------------------------- #\n",
    "        # COMPUTE DISPARITY MAP\n",
    "        # -------------------------------- #\n",
    "\n",
    "        # Matched blocked size\n",
    "        window_size = 11\n",
    "        min_disp = 0\n",
    "        num_disp = 128-min_disp\n",
    "        stereo = cv2.StereoSGBM_create(minDisparity = min_disp,\n",
    "                numDisparities = num_disp,\n",
    "                blockSize = window_size,\n",
    "                uniquenessRatio = 10,\n",
    "                speckleWindowSize = 100,\n",
    "                speckleRange = 2,\n",
    "                disp12MaxDiff = 5,\n",
    "                P1 = 8*3*window_size**2,\n",
    "                P2 = 32*3*window_size**2)\n",
    "        \n",
    "        right_matcher = cv2.ximgproc.createRightMatcher(stereo)\n",
    "\n",
    "        # WLS Filter Parameters\n",
    "        lmbda = 8000\n",
    "        sigma=1.4\n",
    "        visual_multiplier = 1.0\n",
    "\n",
    "        wls_filter = cv2.ximgproc.createDisparityWLSFilter(matcher_left=stereo)\n",
    "        wls_filter.setLambda(lmbda)\n",
    "        wls_filter.setSigmaColor(sigma)\n",
    "\n",
    "        # Compute the depth images\n",
    "        disp = stereo.compute(imgL_rectified, imgR_rectified)\n",
    "        dispL = disp\n",
    "        dispR = right_matcher.compute(imgR_rectified, imgL_rectified)\n",
    "        dispL = np.int16(dispL)\n",
    "        dispR = np.int16(dispR)\n",
    "\n",
    "        # Filtering with the WLS Filter\n",
    "        filtered = wls_filter.filter(dispL, imgL_rectified, None, dispR)\n",
    "        filtered = cv2.normalize(src=filtered, dst=filtered, beta=0, alpha=255, norm_type=cv2.NORM_MINMAX)\n",
    "        filtered = np.uint8(filtered)\n",
    "\n",
    "        disp = ((disp.astype(np.float32) / 16) - min_disp) / num_disp\n",
    "        kernel= np.ones((3,3),np.uint8)\n",
    "        # apply morphological closing to remove little black holes (removing noise)\n",
    "        closing = cv2.morphologyEx(disp, cv2.MORPH_CLOSE, kernel)\n",
    "        disp_closed = (closing - closing.min()) * 255\n",
    "        disp_closed = disp_closed.astype(np.uint8)\n",
    "\n",
    "        # mask the disparity maps\n",
    "        filtered[mask_rectified == 0] = 0\n",
    "        disp_closed[mask_rectified == 0] = 0\n",
    "        \n",
    "        return [disp_closed, filtered]\n"
   ]
  },
  {
   "cell_type": "code",
   "execution_count": null,
   "metadata": {},
   "outputs": [],
   "source": [
    "left_img = cv2.imread('campus_regression_images/images/left_1.png', 0)\n",
    "right_img = cv2.imread('campus_regression_images/images/right_1.png', 0)\n",
    "mask = cv2.imread('campus_regression_images/masks/mask_1.png', 0)\n",
    "\n",
    "depth = computeDepthMap(left_img, right_img, mask)\n",
    "\n",
    "plt.figure()\n",
    "plt.imshow(depth[0], 'gray')\n",
    "plt.show()"
   ]
  },
  {
   "cell_type": "code",
   "execution_count": 96,
   "metadata": {},
   "outputs": [],
   "source": [
    "def extract_disparities(left_ims, right_ims, masks):\n",
    "    \n",
    "    depth_maps = []\n",
    "    raw_disparity_values = []\n",
    "    filtered_disparity_values = []\n",
    "    \n",
    "    for left, right, msk in zip(left_ims, right_ims, masks):\n",
    "        imgL = cv2.imread(left, 0)\n",
    "        imgR = cv2.imread(right, 0)\n",
    "        mask = cv2.imread(msk, 0)\n",
    "\n",
    "        depth = computeDepthMap(imgL, imgR, mask)\n",
    "        raw = depth[0][359:362, :]\n",
    "        filtered = depth[1][359:362, :]\n",
    "        \n",
    "        # disparities are the median values\n",
    "        r_disp = np.median(raw[np.nonzero(raw)])\n",
    "        f_disp = np.median(filtered[np.nonzero(filtered)])\n",
    "\n",
    "        # add the disparity values to their respective lists\n",
    "        raw_disparity_values.append(r_disp)\n",
    "        filtered_disparity_values.append(f_disp)\n",
    "\n",
    "        # add the disparity maps to a list for returning\n",
    "        depth_maps.append(depth)\n",
    "    \n",
    "    return {'D': depth_maps, 'R': np.array(raw_disparity_values), 'F': np.array(filtered_disparity_values)}"
   ]
  },
  {
   "cell_type": "code",
   "execution_count": 97,
   "metadata": {},
   "outputs": [],
   "source": [
    "depths = extract_disparities(left_ims, right_ims, masks)"
   ]
  },
  {
   "cell_type": "markdown",
   "metadata": {},
   "source": [
    "### Regression Line 2 (Short: <15m)"
   ]
  },
  {
   "cell_type": "markdown",
   "metadata": {},
   "source": [
    "##### Rational Function"
   ]
  },
  {
   "cell_type": "code",
   "execution_count": 111,
   "metadata": {},
   "outputs": [],
   "source": [
    "def disp2dist(x):\n",
    "    '''\n",
    "    Computes the distance given a disparity value between 0 & 255\\n\n",
    "    x must be a number or a numpy array\n",
    "    The rational function was fitted using MATLAB's curveFitter App\n",
    "\n",
    "    dist = np.linspace(2.0, 11.6, 33)\n",
    "    disp = np.array([186, 207, 178, 129, 124, 113, 104, 168, 94, 88, 160, 97, 78, 73, 74, \n",
    "                 77, 66, 66, 62, 60, 108, 56, 94, 53, 51, 50, 49, 46, 45, 80, 44, 93, 41])\n",
    "    '''\n",
    "    return (507.7*pow(x,2) -214.7*x + 10.1) / (pow(x,3) + 76.2*pow(x,2) -3057*x - 139.7)"
   ]
  },
  {
   "cell_type": "code",
   "execution_count": 4,
   "metadata": {},
   "outputs": [],
   "source": [
    "def fit_disp2dist(x):\n",
    "    '''\n",
    "    disp = [113, 113, 94, 89, 82, 77, 70, 70, 70, 65, 60, 55, 53, 51, 50, 49, 48, 46, 44, \n",
    "        42, 41, 40, 39, 38, 37, 36, 37, 36, 36, 34, 34, 33, 33]\n",
    "    \n",
    "    dist = np.linspace(3.0, 12.6, 33)\n",
    "    '''\n",
    "    y = (378*x**2 -1485*x - 76.37) / (x**3 + 6.802*x**2 - 400.3*x - 1003)\n",
    "    return y"
   ]
  },
  {
   "cell_type": "code",
   "execution_count": 119,
   "metadata": {},
   "outputs": [],
   "source": [
    "def disp_to_dist(x):\n",
    "    '''\n",
    "    Resolves the distance from a given disparity value based on a curve fitted to the \\n\n",
    "    following vales:\n",
    "\n",
    "    disp = [119, 109, 101, 94, 87, 82, 77, 74, 71, 65, 63, 60, 57, 55, 52, 50, 48, 47, 45, \n",
    "            43, 42, 41, 40, 39, 38, 37, 37, 35, 35, 33, 33, 31, 31]\n",
    "\n",
    "    dist = np.linspace(3.0, 12.6, 33)\n",
    "    '''\n",
    "    y = (346*x**2 -116.7*x - 1.961) / (x**3 - 5.863*x**2 + 47.24*x + 487.6)\n",
    "    return y"
   ]
  },
  {
   "cell_type": "code",
   "execution_count": null,
   "metadata": {},
   "outputs": [],
   "source": [
    "disp = [119, 109, 101, 94, 87, 82, 77, 74, 71, 65, 63, 60, 57, 55, 52, 50, 48, 47, 45, \n",
    "            43, 42, 41, 40, 39, 38, 37, 37, 35, 35, 33, 33, 31, 31]\n",
    "dist = np.linspace(3.0, 12.6, 33)\n",
    "x = np.linspace(31, 119, 880)\n",
    "y = disp_to_dist(x)\n",
    "\n",
    "plt.close()\n",
    "plt.figure()\n",
    "plt.scatter(disp, dist, label='Data')\n",
    "plt.plot(x, y, 'r', label='Fit')\n",
    "plt.xlabel('Disparity (pixels)')\n",
    "plt.ylabel('Distance (m)')\n",
    "plt.ylim(bottom=0, top=13)\n",
    "plt.title('Distance vs Disparity')\n",
    "plt.legend()\n",
    "plt.show()"
   ]
  },
  {
   "cell_type": "markdown",
   "metadata": {},
   "source": [
    "### Regression Line 3 (Long: Up to 35m)"
   ]
  },
  {
   "cell_type": "code",
   "execution_count": 5,
   "metadata": {},
   "outputs": [],
   "source": [
    "def long_fit(value):\n",
    "    '''\n",
    "    Fits a polynomial to a scatter plot of points for distance/disparity relationship\n",
    "    for up to 35m length.\n",
    "    '''\n",
    "    dist = np.arange(2, 28, 1)\n",
    "    disp = np.array([215, 188, 174, 164, 159, 155, 152, 150, 152, 146, \n",
    "                    145, 143, 144, 141, 141, 141, 140, 140, 140, 139, 139, 139, 142, 138, 139, 137])\n",
    "    model = np.poly1d(np.polyfit(disp, dist, 6))\n",
    "    \n",
    "    return model(value)\n"
   ]
  },
  {
   "cell_type": "markdown",
   "metadata": {},
   "source": [
    "### Top, base, Left and Right Extreme Pixels"
   ]
  },
  {
   "cell_type": "code",
   "execution_count": 156,
   "metadata": {},
   "outputs": [],
   "source": [
    "def convex_hull(img):\n",
    "    '''\n",
    "    Finds the tip pixels on the left, right, base and top of the image\n",
    "    '''\n",
    "    rows, cols = img.nonzero()\n",
    "    base = (rows.max(), cols[np.where(rows == rows.max())][0])\n",
    "    top =  (rows.min(), cols[np.where(rows == rows.min())][0])\n",
    "    left =  (rows[np.where(cols == cols.min())][0], cols.min())\n",
    "    right = (rows[np.where(cols == cols.max())][0], cols.max())\n",
    "   \n",
    "    return base, top, left, right"
   ]
  },
  {
   "cell_type": "code",
   "execution_count": 201,
   "metadata": {},
   "outputs": [],
   "source": [
    "def compute_bh(img, zc, baseline=0.129, f=1438):\n",
    "    '''\n",
    "    Computes the number of pixels from the trunk base breast height of the tree\n",
    "    @ img: Source image\n",
    "    @ zc: Real world depth of trunk base\n",
    "    '''\n",
    "    disparity = baseline * f / zc\n",
    "    base = convex_hull(img)[0]\n",
    "    xc = baseline * (base[0] - 360) / disparity\n",
    "    yc = baseline * (base[1] - 640) / disparity\n",
    "\n",
    "    # applying the geometry for deriving the position of the breast height\n",
    "    dg = np.sqrt(xc**2 + yc**2 + zc**2)\n",
    "    phi = np.arctan(yc / zc)\n",
    "    beta = (np.pi/2 - phi)\n",
    "    dh = np.sqrt(1.69 + dg**2 - 2.6*dg*np.cos(beta))\n",
    "    theta = np.arcsin(1.3 * np.sin(beta) / dh)\n",
    "    sh = 2822.61 * np.tan(theta/2) # no. of pixels from base to the breast height (1.3m above the ground)\n",
    "    bh = base[0] - np.int64(sh) # row number where breast height is found\n",
    "    \n",
    "    return bh\n",
    "    "
   ]
  },
  {
   "cell_type": "code",
   "execution_count": 146,
   "metadata": {},
   "outputs": [],
   "source": [
    "def plot_bh(img, bh):\n",
    "    \n",
    "    plt.figure(figsize=(8,3))\n",
    "    plt.imshow(img, 'gray')\n",
    "    plt.hlines(bh, 0, 1279, colors='r')\n",
    "    plt.show()"
   ]
  },
  {
   "cell_type": "code",
   "execution_count": 148,
   "metadata": {},
   "outputs": [],
   "source": [
    "def compute_dbh(sd, da):\n",
    "    theta = np.arctan(sd * 3.546e-4)\n",
    "    D = 2 * da * np.tan(theta)\n",
    "    return D"
   ]
  },
  {
   "cell_type": "code",
   "execution_count": 151,
   "metadata": {},
   "outputs": [],
   "source": [
    "def median_top_pixel(image):\n",
    "    pixels = []\n",
    "    top = convex_hull(image)[1]\n",
    "\n",
    "    sub_image = image[top[0] : top[0] + 21, :]\n",
    "    rows, columns = np.nonzero(sub_image)\n",
    "    for row, column in zip(rows, columns):\n",
    "        pixels.append(sub_image[row, column])\n",
    "    \n",
    "    # print(pixels)\n",
    "    pixels = np.array(pixels)\n",
    "\n",
    "    return np.median(pixels)"
   ]
  },
  {
   "cell_type": "code",
   "execution_count": 218,
   "metadata": {},
   "outputs": [],
   "source": [
    "def median_base_pixel(image):\n",
    "    pixels = []\n",
    "    base = convex_hull(image)[0]\n",
    "\n",
    "    sub_image = image[base[0] - 50 : base[0] + 1, :]\n",
    "    rows, columns = np.nonzero(sub_image)\n",
    "    for row, column in zip(rows, columns):\n",
    "        pixels.append(sub_image[row, column])\n",
    "\n",
    "    # print(pixels)\n",
    "    pixels = np.array(pixels)\n",
    "\n",
    "    return np.median(pixels)"
   ]
  },
  {
   "cell_type": "code",
   "execution_count": 230,
   "metadata": {},
   "outputs": [],
   "source": [
    "def median_bh_pixels(image):\n",
    "\n",
    "    pixels = []\n",
    "    zc = disp_to_dist(median_base_pixel(image))\n",
    "    bh = compute_bh(image, zc)\n",
    "    sub_image = image[bh - 5 : bh + 5, :]\n",
    "\n",
    "    rows, columns = np.nonzero(sub_image)\n",
    "    for row, column in zip(rows, columns):\n",
    "        pixels.append(sub_image[row, column])\n",
    "    \n",
    "    pixels = np.array(pixels)\n",
    "    half_pixels = np.array_split(pixels, 2)\n",
    "    center = np.median(pixels)\n",
    "    edge = np.median(half_pixels[0])\n",
    "\n",
    "    return [center, edge]"
   ]
  },
  {
   "cell_type": "code",
   "execution_count": 219,
   "metadata": {},
   "outputs": [],
   "source": [
    "def minimum_crown_pixel(image):\n",
    "    pixels = []\n",
    "    left = convex_hull(image)[2]\n",
    "\n",
    "    sub_image = image[:, left[1] : left[1] + 21]\n",
    "    rows, columns = np.nonzero(sub_image)\n",
    "    for row, column in zip(rows, columns):\n",
    "        pixels.append(sub_image[row, column])\n",
    "\n",
    "    # print(pixels)\n",
    "    pixels = np.array(pixels)\n",
    "\n",
    "    return int(np.mean(pixels))"
   ]
  },
  {
   "cell_type": "code",
   "execution_count": 220,
   "metadata": {},
   "outputs": [],
   "source": [
    "def pixel_of_interest(image, parameter:str):\n",
    "    '''\n",
    "    Returns the value of the pixel of interest depending on the parameter chosen\n",
    "    '''\n",
    "    if parameter.lower() == 'dbh':\n",
    "        return median_base_pixel(image)\n",
    "            \n",
    "    elif parameter.lower() == 'th':\n",
    "        base = median_base_pixel(image)\n",
    "        top = median_top_pixel(image)\n",
    "        return [base, top]\n",
    "    \n",
    "    elif parameter.lower() == 'cd':\n",
    "        return minimum_crown_pixel(image)\n",
    "\n",
    "    else:\n",
    "        raise TypeError(\"Invalid parameter. Must be 'dbh', 'th', or 'cd' \")"
   ]
  },
  {
   "cell_type": "code",
   "execution_count": 270,
   "metadata": {},
   "outputs": [],
   "source": [
    "def computeDepthMap(imgL, imgR, mask):\n",
    "    \n",
    "        # ------------------------------------- #\n",
    "        # SETUP\n",
    "        # ------------------------------------- #\n",
    "        imgL = cv2.GaussianBlur(imgL, (5,5), 0)\n",
    "        imgR = cv2.GaussianBlur(imgR, (5,5), 0)\n",
    "\n",
    "        # read camera data\n",
    "        data = cv2.FileStorage('stereo_params_v2.yml', cv2.FILE_STORAGE_READ)\n",
    "        keys = [\"K1\", \"K2\", \"D1\", \"D2\", \"R1\", \"R2\", \"P1\", \"P2\", \"T\"]\n",
    "        [K1, K2, D1, D2, R1, R2, P1, P2, T] = [data.getNode(key).mat() for key in keys]\n",
    "\n",
    "        '''\n",
    "        We know that\n",
    "\n",
    "                |f  0   cx1  0|\n",
    "        P1 =    |0  f   cy   0|\n",
    "                |0  f   1    0|\n",
    "\n",
    "        and \n",
    "\n",
    "                |f  0   cx2  Tx*f|\n",
    "        P2 =    |0  f   cy   0   |\n",
    "                |0  f   1    0   |\n",
    "\n",
    "        and in our case, cx1 = cx2 = cx\n",
    "        '''\n",
    "\n",
    "        f = K1[0,0]\n",
    "        Tx = T[0,0]\n",
    "        P1 = np.hstack((K1, np.array([[0],[0],[0]])))\n",
    "        P2 = np.hstack((K2, np.array([[Tx*f],[0],[0]])))\n",
    "\n",
    "\n",
    "        # ------------------------------------- #\n",
    "        # STEREO RECTIFICATION\n",
    "        # ------------------------------------- #\n",
    "        h1, w1 = imgL.shape\n",
    "\n",
    "        # rectify images using initUndistortRectifyMap\n",
    "        xmap1, ymap1 = cv2.initUndistortRectifyMap(K1, D1, R1, P1, (w1,h1), cv2.CV_32FC1)\n",
    "        xmap2, ymap2 = cv2.initUndistortRectifyMap(K2, D2, R2, P2, (w1,h1), cv2.CV_32FC1)\n",
    "\n",
    "        imgL_rectified = cv2.remap(imgL, xmap1, ymap1, cv2.INTER_LINEAR, cv2.BORDER_CONSTANT)\n",
    "        imgR_rectified = cv2.remap(imgR, xmap2, ymap2, cv2.INTER_LINEAR, cv2.BORDER_CONSTANT)\n",
    "        mask_rectified = cv2.remap(mask, xmap1, ymap1, cv2.INTER_LINEAR, cv2.BORDER_CONSTANT)\n",
    "\n",
    "        # -------------------------------- #\n",
    "        # COMPUTE DISPARITY MAP\n",
    "        # -------------------------------- #\n",
    "\n",
    "        # Matched blocked size\n",
    "        window_size = 11\n",
    "        min_disp = 0\n",
    "        num_disp = 128-min_disp\n",
    "        stereo = cv2.StereoSGBM_create(minDisparity = min_disp,\n",
    "                numDisparities = num_disp,\n",
    "                blockSize = window_size,\n",
    "                uniquenessRatio = 10,\n",
    "                speckleWindowSize = 100,\n",
    "                speckleRange = 2,\n",
    "                disp12MaxDiff = 5,\n",
    "                P1 = 8*3*window_size**2,\n",
    "                P2 = 32*3*window_size**2)\n",
    "        \n",
    "        right_matcher = cv2.ximgproc.createRightMatcher(stereo)\n",
    "\n",
    "        # WLS Filter Parameters\n",
    "        lmbda = 8000\n",
    "        sigma=1.4\n",
    "        visual_multiplier = 1.0\n",
    "\n",
    "        wls_filter = cv2.ximgproc.createDisparityWLSFilter(matcher_left=stereo)\n",
    "        wls_filter.setLambda(lmbda)\n",
    "        wls_filter.setSigmaColor(sigma)\n",
    "\n",
    "        # Compute the depth images\n",
    "        disp = stereo.compute(imgL_rectified, imgR_rectified)\n",
    "        dispL = disp\n",
    "        dispR = right_matcher.compute(imgR_rectified, imgL_rectified)\n",
    "        dispL = np.int16(dispL)\n",
    "        dispR = np.int16(dispR)\n",
    "\n",
    "        # Filtering with the WLS Filter\n",
    "        filtered = wls_filter.filter(dispL, imgL_rectified, None, dispR)\n",
    "        filtered = cv2.normalize(src=filtered, dst=filtered, beta=0, alpha=255, norm_type=cv2.NORM_MINMAX)\n",
    "        filtered = np.uint8(filtered)\n",
    "\n",
    "        disp = ((disp.astype(np.float32) / 16) - min_disp) / num_disp\n",
    "        kernel= np.ones((3,3),np.uint8)\n",
    "        # apply morphological closing to remove little black holes (removing noise)\n",
    "        closing = cv2.morphologyEx(disp, cv2.MORPH_CLOSE, kernel)\n",
    "        disp_closed = (closing - closing.min()) * 255\n",
    "        disp_closed = disp_closed.astype(np.uint8)\n",
    "\n",
    "        # mask the disparity maps\n",
    "        # filtered[mask_rectified == 0] = 0\n",
    "        # disp_closed[mask_rectified == 0] = 0\n",
    "        \n",
    "        return {'R': disp_closed, 'F': filtered}\n"
   ]
  },
  {
   "cell_type": "code",
   "execution_count": 292,
   "metadata": {},
   "outputs": [],
   "source": [
    "def rectify_image(image):\n",
    "\n",
    "        data = cv2.FileStorage('stereo_params_v2.yml', cv2.FILE_STORAGE_READ)\n",
    "        keys = [\"K1\", \"K2\", \"D1\", \"D2\", \"R1\", \"R2\", \"P1\", \"P2\", \"T\"]\n",
    "        [K1, K2, D1, D2, R1, R2, P1, P2, T] = [data.getNode(key).mat() for key in keys]\n",
    "\n",
    "        f = K1[0,0]\n",
    "        Tx = T[0,0]\n",
    "        P1 = np.hstack((K1, np.array([[0],[0],[0]])))\n",
    "        P2 = np.hstack((K2, np.array([[Tx*f],[0],[0]])))\n",
    "\n",
    "        h1, w1 = image.shape\n",
    "\n",
    "        # rectify images using initUndistortRectifyMap\n",
    "        xmap1, ymap1 = cv2.initUndistortRectifyMap(K1, D1, R1, P1, (w1,h1), cv2.CV_32FC1)\n",
    "        image_rectified = cv2.remap(image, xmap1, ymap1, cv2.INTER_LINEAR, cv2.BORDER_CONSTANT)\n",
    "\n",
    "        return image_rectified"
   ]
  },
  {
   "cell_type": "code",
   "execution_count": 221,
   "metadata": {},
   "outputs": [],
   "source": [
    "def show_dbh(image, measured_dbh):\n",
    "    '''\n",
    "    This function assembles all information on the diameter at breast height for display. \\n\n",
    "    1. Distance to the base \\n\n",
    "    2. No. of pixels from top to breast height \\n\n",
    "    3. Plotting the breast height location \\n\n",
    "    4. No. of pixels that the DBH spans \\n\n",
    "    5. Displaying extracted DBH value \\n\n",
    "    6. Displaying % error in DBH extraction \\n\n",
    "    '''\n",
    "    \n",
    "    base_px = pixel_of_interest(image, 'dbh')\n",
    "    base_depth = disp_to_dist(base_px)\n",
    "    bh = compute_bh(image, zc=base_depth)\n",
    "    plot_bh(image, bh)\n",
    "    print(f\"Trunk base depth: {round(base_depth, 2)}m\")\n",
    "    print(f\"Breast Height Location: {bh} pixels from the top\")\n",
    "    px = np.nonzero(image[bh, :])[0]\n",
    "    sz = px.size\n",
    "    print(f\"The DBH spans {sz} pixels\")\n",
    "    da = disp_to_dist(median_bh_pixels(image)[1])\n",
    "    print(f\"Depth of breast height: {round(da, 2)}m\")\n",
    "    D = compute_dbh(sz, da)\n",
    "    print(f\"Extracted DBH: {round(D*100, 2)}cm\")\n",
    "    print(f\"Measured DBH: {round(measured_dbh*100, 2)}cm\")\n",
    "    p_error = np.abs(D - measured_dbh)/measured_dbh * 100\n",
    "    print(f\"Error: {round(p_error, 2)}%\")\n"
   ]
  },
  {
   "cell_type": "code",
   "execution_count": 271,
   "metadata": {},
   "outputs": [],
   "source": [
    "left_ims = glob.glob('trunks/images/left_*.png')\n",
    "right_ims = glob.glob('trunks/images/right_*.png')\n",
    "masks = glob.glob('trunks/masks/mask_*.png')"
   ]
  },
  {
   "cell_type": "code",
   "execution_count": 272,
   "metadata": {},
   "outputs": [],
   "source": [
    "def save_depth_maps(left_ims, right_ims, masks):\n",
    "\n",
    "    zipped = zip(left_ims, right_ims, masks)\n",
    "    for left, right, mask in zipped:\n",
    "        imgL = cv2.imread(left, 0)\n",
    "        imgR = cv2.imread(right, 0)\n",
    "        maskL = cv2.imread(mask, 0)\n",
    "\n",
    "        depth = computeDepthMap(imgL, imgR, maskL)\n",
    "        i = left.split('\\\\')[1].split('_')[1].split('.')[0]\n",
    "\n",
    "        cv2.imwrite('trunks/full_dmaps/fullmap_' + i + '.png', depth['R'])\n",
    "        # cv2.imwrite('full_trees/filtered_dmaps/filtered_' + i + '.png', depth['F'])\n",
    "\n",
    "    print(\"All depth maps have been saved.\")"
   ]
  },
  {
   "cell_type": "code",
   "execution_count": 273,
   "metadata": {},
   "outputs": [
    {
     "name": "stdout",
     "output_type": "stream",
     "text": [
      "All depth maps have been saved.\n"
     ]
    }
   ],
   "source": [
    "save_depth_maps(left_ims, right_ims, masks)"
   ]
  },
  {
   "cell_type": "code",
   "execution_count": null,
   "metadata": {},
   "outputs": [],
   "source": [
    "# ------------------------------------- #\n",
    "# LOAD IMAGES\n",
    "# ------------------------------------- #\n",
    "imgL = cv2.imread('trunks/images/left_1.png', 0)\n",
    "imgR = cv2.imread('trunks/images/right_1.png', 0)\n",
    "mask = cv2.imread('trunks/masks/mask_1.png', 0)\n",
    "\n",
    "depth = computeDepthMap(imgL, imgR, mask)\n",
    "\n",
    "plt.close()\n",
    "plt.figure(figsize=(10,4))\n",
    "plt.imshow(depth['R'], 'gray')\n",
    "plt.show()"
   ]
  },
  {
   "cell_type": "markdown",
   "metadata": {},
   "source": [
    "##### 1. Load the Disparity Map and Show BH Location"
   ]
  },
  {
   "cell_type": "code",
   "execution_count": null,
   "metadata": {},
   "outputs": [],
   "source": [
    "dmap = cv2.imread('trunks/raw_depthmaps/raw_1.png', 0)\n",
    "zc = disp_to_dist(median_base_pixel(dmap))\n",
    "bh = compute_bh(dmap, zc)\n",
    "plot_bh(dmap, bh)"
   ]
  },
  {
   "cell_type": "markdown",
   "metadata": {},
   "source": [
    "##### 2. Perform Morphological Operation on Mask if Necessary"
   ]
  },
  {
   "cell_type": "code",
   "execution_count": null,
   "metadata": {},
   "outputs": [],
   "source": [
    "mask = cv2.imread('trunks/masks/mask_1.png', 0)\n",
    "kernel = np.ones((50, 1), np.uint8)\n",
    "closing = cv2.morphologyEx(mask, cv2.MORPH_CLOSE, kernel)\n",
    "opening = cv2.morphologyEx(closing, cv2.MORPH_OPEN, kernel)\n",
    "\n",
    "plt.figure()\n",
    "plt.imshow(opening, 'gray')\n",
    "plt.show()"
   ]
  },
  {
   "cell_type": "markdown",
   "metadata": {},
   "source": [
    "##### 3. Rectify Mask and Apply it on Full Disparity Map"
   ]
  },
  {
   "cell_type": "code",
   "execution_count": 310,
   "metadata": {},
   "outputs": [],
   "source": [
    "opening = rectify_image(opening)\n",
    "dmap = cv2.imread('trunks/full_dmaps/fullmap_1.png', 0)\n",
    "dmap[opening == 0] = 0\n",
    "# cv2.imwrite('trunks/raw_depthmaps/raw_1.png', dmap)"
   ]
  },
  {
   "cell_type": "markdown",
   "metadata": {},
   "source": [
    "##### 5. Extract the DBH and Record It"
   ]
  },
  {
   "cell_type": "code",
   "execution_count": null,
   "metadata": {},
   "outputs": [],
   "source": [
    "show_dbh(dmap, 0.896/np.pi)"
   ]
  },
  {
   "cell_type": "markdown",
   "metadata": {},
   "source": [
    "#### CD & TH Extraction"
   ]
  },
  {
   "cell_type": "code",
   "execution_count": 54,
   "metadata": {},
   "outputs": [],
   "source": [
    "def compute_cd(image, baseline=0.129, f=1438):\n",
    "    '''\n",
    "    This function extracts the crown diameter from a segmented depth map\n",
    "    '''\n",
    "\n",
    "    left, right = convex_hull(image)[2:4]\n",
    "    crown_px = minimum_crown_pixel(image)\n",
    "    \n",
    "    z = fit_disp2dist(crown_px)\n",
    "    disparity = baseline * f / z\n",
    "    x = baseline * (left[0] - 360) / disparity\n",
    "    y = baseline * (left[1] - 640) / disparity\n",
    "    print(f\"Real word coordinates: {round(x, 2), round(y, 2), round(z, 2)}\")\n",
    "\n",
    "    sc = right[1] - left[1]\n",
    "    da = np.sqrt(x**2 + y**2 + z**2)\n",
    "    theta = 2 * np.arctan(sc * 3.546e-4)\n",
    "    D = 2 * da * np.tan(theta/2)\n",
    "\n",
    "    print(f\"Left crown extreme is {round(da, 2)}m away\")\n",
    "    print(f\"CD: {round(D, 2)}m\")\n",
    "\n",
    "    plt.figure()\n",
    "    plt.imshow(image, 'gray')\n",
    "    plt.vlines([left[1], right[1]], 0, 719)\n",
    "    plt.show()"
   ]
  },
  {
   "cell_type": "code",
   "execution_count": 69,
   "metadata": {},
   "outputs": [
    {
     "name": "stdout",
     "output_type": "stream",
     "text": [
      "Real word coordinates: (-3.09, -6.22, 36.36)\n",
      "Left crown extreme is 37.02m away\n",
      "CD: 14.44m\n"
     ]
    },
    {
     "data": {
      "application/vnd.jupyter.widget-view+json": {
       "model_id": "15344925f67c477ca1a43882e760458d",
       "version_major": 2,
       "version_minor": 0
      },
      "image/png": "[encoded data removed]",
      "text/html": [
       "\n",
       "            <div style=\"display: inline-block;\">\n",
       "                <div class=\"jupyter-widgets widget-label\" style=\"text-align: center;\">\n",
       "                    Figure\n",
       "                </div>\n",
       "                <img src='data:image/png;base64,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' width=640.0/>\n",
       "            </div>\n",
       "        "
      ],
      "text/plain": [
       "Canvas(toolbar=Toolbar(toolitems=[('Home', 'Reset original view', 'home', 'home'), ('Back', 'Back to previous …"
      ]
     },
     "metadata": {},
     "output_type": "display_data"
    }
   ],
   "source": [
    "compute_cd(depth)"
   ]
  },
  {
   "cell_type": "code",
   "execution_count": 36,
   "metadata": {},
   "outputs": [],
   "source": [
    "def compute_th(image, baseline=0.129, f=1438):\n",
    "    '''\n",
    "    This function extracts the crown diameter from a segmented depth map\n",
    "    '''\n",
    "\n",
    "    base, top = convex_hull(image)[0:2]\n",
    "    base_px = median_base_pixel(image)\n",
    "    top_px = median_top_pixel(image)\n",
    "    \n",
    "    zb = fit_disp2dist(base_px)\n",
    "    disparity = baseline * f / zb\n",
    "    xb = baseline * (base[0] - 360) / disparity\n",
    "    yb = baseline * (base[1] - 640) / disparity\n",
    "    print(f\"Real world coordinates of base: {round(xb, 2), round(yb, 2), round(zb, 2)}\")\n",
    "\n",
    "    zt = fit_disp2dist(top_px)\n",
    "    disparity = baseline * f / zt\n",
    "    xt = baseline * (top[0] - 360) / disparity\n",
    "    yt = baseline * (top[1] - 640) / disparity\n",
    "    print(f\"Real world coordinates of top: {round(xt, 2), round(yt, 2), round(zt, 2)}\")    \n",
    "\n",
    "    st = base[0] - top[0]\n",
    "    db = np.sqrt(xb**2 + yb**2 + zb**2)\n",
    "    dt = np.sqrt(xt**2 + yt**2 + zt**2)\n",
    "    phi = np.arctan(zb / yb)\n",
    "    theta = 2 * np.arctan(st * 3.543e-4)\n",
    "    H = dt * np.sin(theta) / np.sin(phi)\n",
    "\n",
    "    print(f\"Tree base is {round(db, 2)}m away\")\n",
    "    print(f\"Tree top is {round(dt, 2)}m away\")\n",
    "    print(f\"TH: {round(H, 2)}m\")\n",
    "\n",
    "    plt.figure()\n",
    "    plt.imshow(image, 'gray')\n",
    "    plt.hlines([base[0], top[0]], 0, 1279)\n",
    "    plt.show()"
   ]
  },
  {
   "cell_type": "code",
   "execution_count": 32,
   "metadata": {},
   "outputs": [
    {
     "name": "stdout",
     "output_type": "stream",
     "text": [
      "Real world coordinates of base: (2.55, 0.2, 10.89)\n",
      "Real world coordinates of top: (-0.74, 0.21, 3.4)\n",
      "Tree base is 11.19m away\n",
      "Tree top is 3.49m away\n",
      "TH: 1.52m\n"
     ]
    },
    {
     "data": {
      "application/vnd.jupyter.widget-view+json": {
       "model_id": "f87b85a0aa8c4f52b54592c1e88a02b2",
       "version_major": 2,
       "version_minor": 0
      },
      "image/png": "[encoded data removed]",
      "text/html": [
       "\n",
       "            <div style=\"display: inline-block;\">\n",
       "                <div class=\"jupyter-widgets widget-label\" style=\"text-align: center;\">\n",
       "                    Figure\n",
       "                </div>\n",
       "                <img src='data:image/png;base64,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' width=640.0/>\n",
       "            </div>\n",
       "        "
      ],
      "text/plain": [
       "Canvas(toolbar=Toolbar(toolitems=[('Home', 'Reset original view', 'home', 'home'), ('Back', 'Back to previous …"
      ]
     },
     "metadata": {},
     "output_type": "display_data"
    }
   ],
   "source": [
    "# whole_depth = cv2.imread('area/masked/masked_10.png', 0)\n",
    "compute_th(depth)"
   ]
  },
  {
   "cell_type": "markdown",
   "metadata": {},
   "source": [
    "#### Normalized Cut Segmentation"
   ]
  },
  {
   "cell_type": "code",
   "execution_count": 36,
   "metadata": {},
   "outputs": [
    {
     "data": {
      "text/plain": [
       "8.596288612018428"
      ]
     },
     "execution_count": 36,
     "metadata": {},
     "output_type": "execute_result"
    }
   ],
   "source": [
    "fit_disp2dist(43)"
   ]
  },
  {
   "cell_type": "code",
   "execution_count": 11,
   "metadata": {},
   "outputs": [
    {
     "data": {
      "application/vnd.jupyter.widget-view+json": {
       "model_id": "933401d9c1524ff8a8d4bdc58db9f039",
       "version_major": 2,
       "version_minor": 0
      },
      "image/png": "[encoded data removed]",
      "text/html": [
       "\n",
       "            <div style=\"display: inline-block;\">\n",
       "                <div class=\"jupyter-widgets widget-label\" style=\"text-align: center;\">\n",
       "                    Figure\n",
       "                </div>\n",
       "                <img src='data:image/png;base64,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' width=600.0/>\n",
       "            </div>\n",
       "        "
      ],
      "text/plain": [
       "Canvas(toolbar=Toolbar(toolitems=[('Home', 'Reset original view', 'home', 'home'), ('Back', 'Back to previous …"
      ]
     },
     "metadata": {},
     "output_type": "display_data"
    }
   ],
   "source": [
    "from skimage import data, segmentation, color\n",
    "from skimage.future import graph\n",
    "from matplotlib import pyplot as plt\n",
    "\n",
    "\n",
    "img = imgL\n",
    "\n",
    "labels1 = segmentation.slic(img, compactness=30, n_segments=400,\n",
    "                            start_label=1)\n",
    "out1 = color.label2rgb(labels1, img, kind='avg', bg_label=0)\n",
    "\n",
    "g = graph.rag_mean_color(img, labels1, mode='similarity')\n",
    "labels2 = graph.cut_normalized(labels1, g)\n",
    "out2 = color.label2rgb(labels2, img, kind='avg', bg_label=0)\n",
    "\n",
    "fig, ax = plt.subplots(nrows=2, sharex=True, sharey=True, figsize=(6, 8))\n",
    "\n",
    "ax[0].imshow(out1)\n",
    "ax[1].imshow(out2)\n",
    "\n",
    "for a in ax:\n",
    "    a.axis('off')\n",
    "\n",
    "plt.tight_layout()"
   ]
  }
 ],
 "metadata": {
  "kernelspec": {
   "display_name": "Python 3.7.13 ('images')",
   "language": "python",
   "name": "python3"
  },
  "language_info": {
   "codemirror_mode": {
    "name": "ipython",
    "version": 3
   },
   "file_extension": ".py",
   "mimetype": "text/x-python",
   "name": "python",
   "nbconvert_exporter": "python",
   "pygments_lexer": "ipython3",
   "version": "3.7.13"
  },
  "orig_nbformat": 4,
  "vscode": {
   "interpreter": {
    "hash": "c00352ead029f3b2a06e2e2efd6483b77fef6ddac2ce4c6715086f01af71d8a7"
   }
  }
 },
 "nbformat": 4,
 "nbformat_minor": 2
}
