{
 "cells": [
  {
   "cell_type": "code",
   "execution_count": 2,
   "metadata": {},
   "outputs": [],
   "source": [
    "import glob\n",
    "import cv2\n",
    "import numpy as np\n",
    "import matplotlib.pyplot as plt\n",
    "from skimage.morphology import opening, closing, disk"
   ]
  },
  {
   "cell_type": "markdown",
   "metadata": {},
   "source": [
    "### Load Sharpened Images with their Masks"
   ]
  },
  {
   "cell_type": "code",
   "execution_count": 33,
   "metadata": {},
   "outputs": [],
   "source": [
    "# images\n",
    "left_ims = glob.glob('trees/sharpened/sharpened_left_*.png')\n",
    "right_ims = glob.glob('trees/sharpened/sharpened_right_*.png')\n",
    "\n",
    "# masks\n",
    "left_masks = glob.glob('trees/matlab_masks/mask_left_*.png')\n",
    "right_masks = glob.glob('trees/matlab_masks/mask_right_*.png')\n",
    "\n",
    "assert(len(left_ims) == len(right_ims))\n",
    "assert(len(left_masks) == len(right_masks))"
   ]
  },
  {
   "cell_type": "markdown",
   "metadata": {},
   "source": [
    "### Create Disparity Maps and Mask Them"
   ]
  },
  {
   "cell_type": "code",
   "execution_count": null,
   "metadata": {},
   "outputs": [],
   "source": [
    "# ------------------------------------- #\n",
    "# SETUP\n",
    "# ------------------------------------- #\n",
    "\n",
    "# read camera data\n",
    "data = cv2.FileStorage('stereo_params_v7.yml', cv2.FILE_STORAGE_READ)\n",
    "keys = [\"K1\", \"K2\", \"D1\", \"D2\", \"R1\", \"R2\", \"P1\", \"P2\", \"T\"]\n",
    "[K1, K2, D1, D2, R1, R2, P1, P2, T] = [data.getNode(key).mat() for key in keys]\n",
    "\n",
    "'''\n",
    "We know that\n",
    "\n",
    "        |f  0   cx1  0|\n",
    "P1 =    |0  f   cy   0|\n",
    "        |0  f   1    0|\n",
    "\n",
    "and \n",
    "\n",
    "        |f  0   cx2  Tx*f|\n",
    "P2 =    |0  f   cy   0   |\n",
    "        |0  f   1    0   |\n",
    "\n",
    "and in our case, cx1 = cx2 = cx\n",
    "'''\n",
    "\n",
    "f = K1[0,0]\n",
    "Tx = T[0,0]\n",
    "P1 = np.hstack((K1, np.array([[0],[0],[0]])))\n",
    "P2 = np.hstack((K2, np.array([[Tx*f],[0],[0]])))\n",
    "\n",
    "\n",
    "# ------------------------------------- #\n",
    "# STEREO RECTIFICATION\n",
    "# ------------------------------------- #\n",
    "i = 1\n",
    "for file_L, file_R, mask_file_L in zip(left_ims, right_ims, left_masks):\n",
    "\n",
    "        imgL = cv2.imread(file_L, 0)\n",
    "        imgR = cv2.imread(file_R, 0)\n",
    "        maskL = cv2.imread(mask_file_L, 0)\n",
    "\n",
    "        h1, w1 = imgL.shape\n",
    "        h2, w2 = imgR.shape\n",
    "\n",
    "\n",
    "        # rectify images using initUndistortRectifyMap\n",
    "        xmap1, ymap1 = cv2.initUndistortRectifyMap(K1, D1, R1, P1, (w1,h1), cv2.CV_32FC1)\n",
    "        xmap2, ymap2 = cv2.initUndistortRectifyMap(K2, D2, R2, P2, (w1,h1), cv2.CV_32FC1)\n",
    "\n",
    "        imgL_rectified = cv2.remap(imgL, xmap1, ymap1, cv2.INTER_LINEAR, cv2.BORDER_CONSTANT)\n",
    "        maskL_rectified = cv2.remap(maskL, xmap1, ymap1, cv2.INTER_LINEAR, cv2.BORDER_CONSTANT)\n",
    "        imgR_rectified = cv2.remap(imgR, xmap2, ymap2, cv2.INTER_LINEAR, cv2.BORDER_CONSTANT)\n",
    "        remap_combined = np.hstack((imgL_rectified, imgR_rectified))\n",
    "\n",
    "        # Plot the Rectified Images\n",
    "        # fig, axes = plt.subplots(figsize=(12,3.5))\n",
    "        # axes.imshow(remap_combined, 'gray')\n",
    "        # axes.hlines((200, 300, 400, 500, 600), xmin=0, xmax=2559)\n",
    "        # plt.suptitle(\"Rectified Images\")\n",
    "        # plt.show()\n",
    "\n",
    "\n",
    "        # -------------------------------- #\n",
    "        # COMPUTE DISPARITY MAP\n",
    "        # -------------------------------- #\n",
    "\n",
    "        # Matched blocked size\n",
    "        block_size = 11\n",
    "        min_disp = -128\n",
    "        max_disp = 128\n",
    "\n",
    "        num_disp = max_disp - min_disp\n",
    "        uniquenessRatio = 5\n",
    "        speckleWindowSize = 200\n",
    "        speckleRange = 2\n",
    "        disp12MaxDiff = 0\n",
    "\n",
    "        stereo = cv2.StereoSGBM_create(\n",
    "        minDisparity=min_disp,\n",
    "        numDisparities=num_disp,\n",
    "        blockSize=block_size,\n",
    "        uniquenessRatio=uniquenessRatio,\n",
    "        speckleWindowSize=speckleWindowSize,\n",
    "        speckleRange=speckleRange,\n",
    "        disp12MaxDiff=disp12MaxDiff,\n",
    "        P1=8 * block_size * block_size,\n",
    "        P2=32 * block_size * block_size\n",
    "        )\n",
    "\n",
    "        disparity_SGBM = stereo.compute(imgL_rectified, imgR_rectified)\n",
    "        disparity_SGBM = cv2.normalize(disparity_SGBM,\n",
    "                                disparity_SGBM,\n",
    "                                beta=0,\n",
    "                                alpha=255,\n",
    "                                norm_type=cv2.NORM_MINMAX)\n",
    "        disparity_SGBM = np.uint8(disparity_SGBM)\n",
    "        # cv2.imwrite('disparitySGBM.png', disparity_SGBM)\n",
    "\n",
    "\n",
    "        # -------------------------------- #\n",
    "        # FILTER DISPARITY MAP\n",
    "        # -------------------------------- #\n",
    "        right_matcher = cv2.ximgproc.createRightMatcher(stereo)\n",
    "        # filter parameters\n",
    "        lmbda = 8000\n",
    "        sigma = 1.5\n",
    "        visual_multiplier = 6\n",
    "\n",
    "        wls_filter = cv2.ximgproc.createDisparityWLSFilter(matcher_left=stereo)\n",
    "        wls_filter.setLambda(lmbda)\n",
    "        wls_filter.setSigmaColor(sigma)\n",
    "        dispL = stereo.compute(imgL_rectified, imgR_rectified)\n",
    "\n",
    "        # erode and dilate dispL\n",
    "        selem = disk(8)\n",
    "        dispL = closing(opening(dispL, selem), selem)\n",
    "        dispR = right_matcher.compute(imgR_rectified, imgL_rectified)\n",
    "\n",
    "        # erode and dilate dispR\n",
    "        dispR = closing(opening(dispR, selem), selem)\n",
    "        dispL = np.int16(dispL)\n",
    "        dispR = np.int16(dispR)\n",
    "\n",
    "        filteredImg = wls_filter.filter(dispL, imgL_rectified, None, dispR)\n",
    "\n",
    "        # Normalize the values to the range 0-255 for a grayscale image\n",
    "        filteredImg = cv2.normalize(filteredImg,\n",
    "                                filteredImg,\n",
    "                                beta=0,\n",
    "                                alpha=255,\n",
    "                                norm_type=cv2.NORM_MINMAX)\n",
    "        filteredImg = np.uint8(filteredImg)\n",
    "        # cv2.imwrite('filteredSGBM.png', filteredImg)\n",
    "\n",
    "        # Plot original images and depth maps side by side\n",
    "        plt.figure(figsize=(20,10))\n",
    "        plt.subplot(221), plt.imshow(imgL, 'gray'), plt.title('Left Original')\n",
    "        plt.subplot(222), plt.imshow(imgR, 'gray'), plt.title('Right Original')\n",
    "        plt.subplot(223), plt.imshow(disparity_SGBM, 'gray'), plt.title('Disparity (Raw)')\n",
    "        plt.subplot(224), plt.imshow(filteredImg, 'gray'), plt.title('Disparity (Filtered)')\n",
    "        plt.show()\n",
    "\n",
    "        # save disparity maps\n",
    "        cv2.imwrite('trees/filtered_disparity_maps/filtered_disparity_' + str(i) + '.png', filteredImg)\n",
    "        filteredImg[maskL_rectified == 0] = 0\n",
    "        cv2.imwrite('trees/masked_disparity_maps/masked_disparity_' + str(i) + '.png', filteredImg)\n",
    "        i += 1\n"
   ]
  },
  {
   "cell_type": "markdown",
   "metadata": {},
   "source": [
    "### Save Disparity Values for Regression Line"
   ]
  },
  {
   "cell_type": "code",
   "execution_count": null,
   "metadata": {},
   "outputs": [],
   "source": [
    "left_ims = glob.glob('area4/left_*.png')\n",
    "right_ims = glob.glob('area4/right_*.png')\n",
    "\n",
    "print(left_ims)"
   ]
  },
  {
   "cell_type": "code",
   "execution_count": null,
   "metadata": {},
   "outputs": [],
   "source": [
    "sorted(['1','2','3','10','11','13','12','23','35','4','5','6','7'])"
   ]
  },
  {
   "cell_type": "code",
   "execution_count": null,
   "metadata": {},
   "outputs": [],
   "source": [
    "# ------------------------------------- #\n",
    "# SETUP\n",
    "# ------------------------------------- #\n",
    "\n",
    "# read camera data\n",
    "data = cv2.FileStorage('stereo_params.yml', cv2.FILE_STORAGE_READ)\n",
    "keys = [\"K1\", \"K2\", \"D1\", \"D2\", \"R1\", \"R2\", \"P1\", \"P2\", \"T\"]\n",
    "[K1, K2, D1, D2, R1, R2, P1, P2, T] = [data.getNode(key).mat() for key in keys]\n",
    "\n",
    "'''\n",
    "We know that\n",
    "\n",
    "        |f  0   cx1  0|\n",
    "P1 =    |0  f   cy   0|\n",
    "        |0  f   1    0|\n",
    "\n",
    "and \n",
    "\n",
    "        |f  0   cx2  Tx*f|\n",
    "P2 =    |0  f   cy   0   |\n",
    "        |0  f   1    0   |\n",
    "\n",
    "and in our case, cx1 = cx2 = cx\n",
    "'''\n",
    "\n",
    "f = K1[0,0]\n",
    "Tx = T[0,0]\n",
    "P1 = np.hstack((K1, np.array([[0],[0],[0]])))\n",
    "P2 = np.hstack((K2, np.array([[Tx*f],[0],[0]])))\n",
    "\n",
    "\n",
    "# ------------------------------------- #\n",
    "# LOAD IMAGES\n",
    "# ------------------------------------- #\n",
    "left_ims = glob.glob('area4/left_*.png')\n",
    "right_ims = glob.glob('area4/right_*.png')\n",
    "\n",
    "# ------------------------------------- #\n",
    "# STEREO RECTIFICATION\n",
    "# ------------------------------------- #\n",
    "disparities = []\n",
    "\n",
    "for file_L, file_R in zip(left_ims, right_ims):\n",
    "        \n",
    "        imgL = cv2.imread(file_L, 0)\n",
    "        imgR = cv2.imread(file_R, 0)\n",
    "\n",
    "        h1, w1 = imgL.shape\n",
    "\n",
    "        # rectify images using initUndistortRectifyMap\n",
    "        xmap1, ymap1 = cv2.initUndistortRectifyMap(K1, D1, R1, P1, (w1,h1), cv2.CV_32FC1)\n",
    "        xmap2, ymap2 = cv2.initUndistortRectifyMap(K2, D2, R2, P2, (w1,h1), cv2.CV_32FC1)\n",
    "\n",
    "        imgL_rectified = cv2.remap(imgL, xmap1, ymap1, cv2.INTER_LINEAR, cv2.BORDER_CONSTANT)\n",
    "        imgR_rectified = cv2.remap(imgR, xmap2, ymap2, cv2.INTER_LINEAR, cv2.BORDER_CONSTANT)\n",
    "        remap_combined = np.concatenate((imgL_rectified, imgR_rectified), axis=1)\n",
    "\n",
    "        # -------------------------------- #\n",
    "        # COMPUTE DISPARITY MAP\n",
    "        # -------------------------------- #\n",
    "\n",
    "        # Matched blocked size\n",
    "        block_size = 11\n",
    "        min_disp = -128\n",
    "        max_disp = 128\n",
    "\n",
    "        num_disp = max_disp - min_disp\n",
    "        uniquenessRatio = 5\n",
    "        speckleWindowSize = 200\n",
    "        speckleRange = 2\n",
    "        disp12MaxDiff = 0\n",
    "\n",
    "        stereo = cv2.StereoSGBM_create(\n",
    "                        minDisparity=min_disp,\n",
    "                        numDisparities=num_disp,\n",
    "                        blockSize=block_size,\n",
    "                        uniquenessRatio=uniquenessRatio,\n",
    "                        speckleWindowSize=speckleWindowSize,\n",
    "                        speckleRange=speckleRange,\n",
    "                        disp12MaxDiff=disp12MaxDiff,\n",
    "                        P1=8 * block_size * block_size,\n",
    "                        P2=32 * block_size * block_size\n",
    "                        )\n",
    "\n",
    "        disparity_SGBM = stereo.compute(imgL_rectified, imgR_rectified)\n",
    "        disparity_SGBM = cv2.normalize(disparity_SGBM,\n",
    "                                disparity_SGBM,\n",
    "                                beta=0,\n",
    "                                alpha=255,\n",
    "                                norm_type=cv2.NORM_MINMAX)\n",
    "        disparity_SGBM = np.uint8(disparity_SGBM)\n",
    "        # cv2.imwrite('disparitySGBM.png', disparity_SGBM)\n",
    "\n",
    "\n",
    "        # -------------------------------- #\n",
    "        # FILTER DISPARITY MAP\n",
    "        # -------------------------------- #\n",
    "        right_matcher = cv2.ximgproc.createRightMatcher(stereo)\n",
    "        # filter parameters\n",
    "        lmbda = 80000\n",
    "        sigma = 1.5\n",
    "        visual_multiplier = 6\n",
    "\n",
    "        wls_filter = cv2.ximgproc.createDisparityWLSFilter(matcher_left=stereo)\n",
    "        wls_filter.setLambda(lmbda)\n",
    "        wls_filter.setSigmaColor(sigma)\n",
    "\n",
    "        dispL = stereo.compute(imgL_rectified, imgR_rectified)\n",
    "        dispR = right_matcher.compute(imgR_rectified, imgL_rectified)\n",
    "\n",
    "        dispL = np.int16(dispL)\n",
    "        dispR = np.int16(dispR)\n",
    "\n",
    "        filteredImg = wls_filter.filter(dispL, imgL_rectified, None, dispR)\n",
    "        # Normalize the values to the range 0-255 for a grayscale image\n",
    "        filteredImg = cv2.normalize(filteredImg,\n",
    "                                filteredImg,\n",
    "                                beta=0,\n",
    "                                alpha=255,\n",
    "                                norm_type=cv2.NORM_MINMAX)\n",
    "        filteredImg = np.uint8(filteredImg)\n",
    "        disparities.append(filteredImg[359, 748])\n",
    "\n",
    "print(disparities)"
   ]
  },
  {
   "cell_type": "code",
   "execution_count": null,
   "metadata": {},
   "outputs": [],
   "source": [
    "d = [186, 162, 145, 122, 106, 99, 92, 86, 79, 73, 72, 65, 62, 65, 57, 55, 52, \n",
    "    53, 51, 49, 49, 45, 45, 45, 44, 44, 43, 45, 45, 43, 43, 43, 42, 117, 42, 40, 40, 94, 39]\n",
    "\n",
    "len(d)"
   ]
  },
  {
   "cell_type": "markdown",
   "metadata": {},
   "source": [
    "### Regression Line (Short: <15m)"
   ]
  },
  {
   "cell_type": "code",
   "execution_count": null,
   "metadata": {},
   "outputs": [],
   "source": [
    "dist = np.linspace(2.0, 11.6, 33)\n",
    "disp = np.array([186, 207, 178, 129, 124, 113, 104, 168, 94, 88, 160, 97, 78, 73, 74, \n",
    "                 77, 66, 66, 62, 60, 108, 56, 94, 53, 51, 50, 49, 46, 45, 80, 44, 93, 41])\n",
    "\n",
    "len(disp) == len(dist)"
   ]
  },
  {
   "cell_type": "markdown",
   "metadata": {},
   "source": [
    "### Regression Line 2 (Short: <15m)"
   ]
  },
  {
   "cell_type": "markdown",
   "metadata": {},
   "source": [
    "##### Rational Function"
   ]
  },
  {
   "cell_type": "code",
   "execution_count": 101,
   "metadata": {},
   "outputs": [],
   "source": [
    "def disp2dist(x):\n",
    "    '''\n",
    "    Computes the distance given a disparity value between 0 & 255\\n\n",
    "    x must be a number or a numpy array\n",
    "    The rational function was fitted using MATLAB's curveFitter App\n",
    "    '''\n",
    "    return (507.7*pow(x,2) -214.7*x + 10.1) / (pow(x,3) + 76.2*pow(x,2) -3057*x - 139.7)"
   ]
  },
  {
   "cell_type": "code",
   "execution_count": 100,
   "metadata": {},
   "outputs": [
    {
     "name": "stdout",
     "output_type": "stream",
     "text": [
      "[ 3.27339168e+02 -2.73988310e+04  5.79107200e+05 -9.01228406e+01\n",
      "  2.32647987e+03 -1.23294618e+04]\n"
     ]
    },
    {
     "data": {
      "image/png": "[encoded data removed]",
      "text/plain": [
       "<Figure size 432x288 with 1 Axes>"
      ]
     },
     "metadata": {
      "needs_background": "light"
     },
     "output_type": "display_data"
    }
   ],
   "source": [
    "from scipy.optimize import curve_fit\n",
    "\n",
    "def func(x, p1, p2, p3, q1, q2, q3):\n",
    "    return (p1*pow(x,2) + p2*x + p3) / (pow(x,3) + q1*pow(x,2) + q2*x + q3)\n",
    "\n",
    "xdata = np.array([186, 162, 145, 122, 106, 99, 92, 86, 79, 73, 72, 65, 62, 65, 57, 55, 52, \n",
    "    53, 51, 49, 49, 45, 45, 45, 44, 44, 43, 45, 45, 43, 43, 43, 42, 42, 42, 40, 40, 39, 39])\n",
    "ydata = np.linspace(2.0, 13.4, 39)\n",
    "\n",
    "\n",
    "popt, pcov = curve_fit(func, xdata, ydata)\n",
    "print(popt)\n",
    "\n",
    "plt.figure()\n",
    "plt.scatter(xdata, ydata, label='Data')\n",
    "plt.plot(xdata, func(xdata, *popt), 'r-', label='SciPy Fit')\n",
    "plt.plot(xdata, disp2dist(xdata), color='g', label='MATLAB Fit')\n",
    "plt.legend()\n",
    "plt.show()"
   ]
  },
  {
   "cell_type": "markdown",
   "metadata": {},
   "source": [
    "##### Polynomial (Cubic)"
   ]
  },
  {
   "cell_type": "code",
   "execution_count": 94,
   "metadata": {},
   "outputs": [
    {
     "data": {
      "image/png": "[encoded data removed]",
      "text/plain": [
       "<Figure size 720x360 with 1 Axes>"
      ]
     },
     "metadata": {
      "needs_background": "light"
     },
     "output_type": "display_data"
    }
   ],
   "source": [
    "dist1 = np.linspace(2.0, 13.4, 39)\n",
    "disp1 = np.array([186, 162, 145, 122, 106, 99, 92, 86, 79, 73, 72, 65, 62, 65, 57, 55, 52, \n",
    "    53, 51, 49, 49, 45, 45, 45, 44, 44, 43, 45, 45, 43, 43, 43, 42, 42, 42, 40, 40, 39, 39])\n",
    "\n",
    "model = np.poly1d(np.polyfit(disp1, dist1, 6))\n",
    "points = np.linspace(39, 186, 600)\n",
    "\n",
    "plt.figure(figsize=(10, 5))\n",
    "plt.plot(points, model(points), color='r')\n",
    "plt.scatter(disp1, dist1)\n",
    "plt.plot(points, disp2dist(points), color='g')\n",
    "plt.show()"
   ]
  },
  {
   "cell_type": "markdown",
   "metadata": {},
   "source": [
    "### Regression Line 3 (Long: Up to 35m)"
   ]
  },
  {
   "cell_type": "code",
   "execution_count": 29,
   "metadata": {},
   "outputs": [
    {
     "data": {
      "image/png": "[encoded data removed]",
      "text/plain": [
       "<Figure size 432x288 with 1 Axes>"
      ]
     },
     "metadata": {
      "needs_background": "light"
     },
     "output_type": "display_data"
    }
   ],
   "source": [
    "dist = np.arange(2, 28, 1)\n",
    "disp = np.array([215, 188, 174, 164, 159, 155, 152, 150, 152, 146, \n",
    "                145, 143, 144, 141, 141, 141, 140, 140, 140, 139, 139, 139, 142, 138, 139, 137])\n",
    "\n",
    "# x = np.arange(137, 216, 1)\n",
    "# y = np.exp(23.08) * (1.2442 ** -x) * (1.006 ** (x ** 2))\n",
    "\n",
    "# polynomial fit\n",
    "model = np.poly1d(np.polyfit(disp, dist, 6))\n",
    "polyline = np.linspace(137, 188, 400)\n",
    "\n",
    "# exponential fit\n",
    "# fit = np.polyfit(disp, np.log(dist), 2)\n",
    "# print(fit)\n",
    "\n",
    "plt.figure()\n",
    "plt.scatter(disp, dist, label='Scatter')\n",
    "# plt.plot(x, y)\n",
    "plt.plot(polyline, model(polyline), color='red', label=str(model))\n",
    "plt.xlabel('Disparity (px)')\n",
    "plt.ylabel('Distance (m)')\n",
    "plt.title('Distance vs Disparity (Regression Line)')\n",
    "plt.legend()\n",
    "plt.show()\n"
   ]
  },
  {
   "cell_type": "markdown",
   "metadata": {},
   "source": [
    "### Top, base, Left and Right Extreme Pixels"
   ]
  },
  {
   "cell_type": "code",
   "execution_count": 102,
   "metadata": {},
   "outputs": [],
   "source": [
    "# load segmented depth map\n",
    "img = cv2.imread('trees/masked_disparity_maps/masked_disparity_1.png', 0)\n",
    "\n",
    "rows, cols = img.nonzero()\n",
    "coords = list(zip(rows, cols))\n",
    "base = [(x,y) for x,y in coords if x == rows.max()][0]\n",
    "top = [(x,y) for x,y in coords if x == rows.min()][0]\n",
    "left = [(x,y) for x,y in coords if y == cols.min()][0]\n",
    "right = [(x,y) for x,y in coords if y == cols.max()][0]"
   ]
  },
  {
   "cell_type": "code",
   "execution_count": null,
   "metadata": {},
   "outputs": [],
   "source": [
    "%matplotlib widget\n",
    "\n",
    "plt.figure(figsize=(8,3))\n",
    "plt.imshow(img, 'gray')\n",
    "plt.hlines(base[0], 0, 1280)\n",
    "plt.vlines([left[1], right[1]], 0, 720)\n",
    "plt.show()"
   ]
  },
  {
   "cell_type": "code",
   "execution_count": null,
   "metadata": {},
   "outputs": [],
   "source": []
  }
 ],
 "metadata": {
  "kernelspec": {
   "display_name": "Python 3.7.11 ('images2')",
   "language": "python",
   "name": "python3"
  },
  "language_info": {
   "codemirror_mode": {
    "name": "ipython",
    "version": 3
   },
   "file_extension": ".py",
   "mimetype": "text/x-python",
   "name": "python",
   "nbconvert_exporter": "python",
   "pygments_lexer": "ipython3",
   "version": "3.7.11"
  },
  "orig_nbformat": 4,
  "vscode": {
   "interpreter": {
    "hash": "a908dbd2f733dad9800dcf81a37b85816edfdee41987f1a32fbdefa9e5844583"
   }
  }
 },
 "nbformat": 4,
 "nbformat_minor": 2
}
